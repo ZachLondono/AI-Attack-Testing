{
  "nbformat": 4,
  "nbformat_minor": 0,
  "metadata": {
    "colab": {
      "name": "problem1.ipynb",
      "provenance": [],
      "collapsed_sections": []
    },
    "kernelspec": {
      "name": "python3",
      "display_name": "Python 3"
    },
    "accelerator": "GPU"
  },
  "cells": [
    {
      "cell_type": "markdown",
      "metadata": {
        "id": "t59FQ0VID7DM"
      },
      "source": [
        "#Setup"
      ]
    },
    {
      "cell_type": "code",
      "metadata": {
        "colab": {
          "base_uri": "https://localhost:8080/"
        },
        "id": "Ue_z2Ds1_H5t",
        "outputId": "6d5e99d4-d0ec-420a-ec0b-9da8bae2c527"
      },
      "source": [
        "pip install foolbox"
      ],
      "execution_count": 1,
      "outputs": [
        {
          "output_type": "stream",
          "text": [
            "Requirement already satisfied: foolbox in /usr/local/lib/python3.7/dist-packages (3.3.1)\n",
            "Requirement already satisfied: numpy in /usr/local/lib/python3.7/dist-packages (from foolbox) (1.19.5)\n",
            "Requirement already satisfied: requests>=2.24.0 in /usr/local/lib/python3.7/dist-packages (from foolbox) (2.25.1)\n",
            "Requirement already satisfied: eagerpy==0.29.0 in /usr/local/lib/python3.7/dist-packages (from foolbox) (0.29.0)\n",
            "Requirement already satisfied: scipy in /usr/local/lib/python3.7/dist-packages (from foolbox) (1.4.1)\n",
            "Requirement already satisfied: GitPython>=3.0.7 in /usr/local/lib/python3.7/dist-packages (from foolbox) (3.1.14)\n",
            "Requirement already satisfied: typing-extensions>=3.7.4.1 in /usr/local/lib/python3.7/dist-packages (from foolbox) (3.7.4.3)\n",
            "Requirement already satisfied: setuptools in /usr/local/lib/python3.7/dist-packages (from foolbox) (54.0.0)\n",
            "Requirement already satisfied: urllib3<1.27,>=1.21.1 in /usr/local/lib/python3.7/dist-packages (from requests>=2.24.0->foolbox) (1.24.3)\n",
            "Requirement already satisfied: chardet<5,>=3.0.2 in /usr/local/lib/python3.7/dist-packages (from requests>=2.24.0->foolbox) (3.0.4)\n",
            "Requirement already satisfied: certifi>=2017.4.17 in /usr/local/lib/python3.7/dist-packages (from requests>=2.24.0->foolbox) (2020.12.5)\n",
            "Requirement already satisfied: idna<3,>=2.5 in /usr/local/lib/python3.7/dist-packages (from requests>=2.24.0->foolbox) (2.10)\n",
            "Requirement already satisfied: gitdb<5,>=4.0.1 in /usr/local/lib/python3.7/dist-packages (from GitPython>=3.0.7->foolbox) (4.0.5)\n",
            "Requirement already satisfied: smmap<4,>=3.0.1 in /usr/local/lib/python3.7/dist-packages (from gitdb<5,>=4.0.1->GitPython>=3.0.7->foolbox) (3.0.5)\n"
          ],
          "name": "stdout"
        }
      ]
    },
    {
      "cell_type": "code",
      "metadata": {
        "id": "-1cQBoLiMl9B"
      },
      "source": [
        "import foolbox as fb                                                                       \n",
        "import torch\n",
        "import torchvision\n",
        "import numpy as np\n",
        "import eagerpy as ep\n",
        "import matplotlib.pyplot as plt \n",
        "import matplotlib.pyplot as plt\n",
        "import time\n",
        "from tabulate import tabulate"
      ],
      "execution_count": 2,
      "outputs": []
    },
    {
      "cell_type": "markdown",
      "metadata": {
        "id": "6-Dc5DllqgRb"
      },
      "source": [
        "## Getting the Trained Model"
      ]
    },
    {
      "cell_type": "code",
      "metadata": {
        "colab": {
          "base_uri": "https://localhost:8080/"
        },
        "id": "DjUqCUwN-olW",
        "outputId": "424409f0-e9cb-4963-a7ec-5bb0d05d0408"
      },
      "source": [
        "model = torchvision.models.resnet18(pretrained=True)\n",
        "preprocessing = dict(mean=[0.485, 0.456, 0.406], std=[0.229, 0.224, 0.225], axis=-3)\n",
        "bounds = (0, 1)\n",
        "fmodel = fb.PyTorchModel(model, bounds=bounds, preprocessing=preprocessing)\n",
        "fmodel = fmodel.transform_bounds((0,1))\n",
        "images, labels = fb.utils.samples(fmodel, dataset='imagenet', batchsize=16)\n",
        "fb.utils.accuracy(fmodel, images, labels)"
      ],
      "execution_count": 3,
      "outputs": [
        {
          "output_type": "stream",
          "text": [
            "/usr/local/lib/python3.7/dist-packages/foolbox/models/pytorch.py:37: UserWarning: The PyTorch model is in training mode and therefore might not be deterministic. Call the eval() method to set it in evaluation mode if this is not intended.\n",
            "  \"The PyTorch model is in training mode and therefore might\"\n"
          ],
          "name": "stderr"
        },
        {
          "output_type": "execute_result",
          "data": {
            "text/plain": [
              "0.875"
            ]
          },
          "metadata": {
            "tags": []
          },
          "execution_count": 3
        }
      ]
    },
    {
      "cell_type": "code",
      "metadata": {
        "id": "B8HY3uH9DR8d"
      },
      "source": [
        "attacks = []\n",
        "attacks.append(fb.attacks.LinfDeepFoolAttack())\n",
        "attacks.append(fb.attacks.FGSM())\n",
        "attacks.append(fb.attacks.FGM())\n",
        "attacks.append(fb.attacks.L2PGD())\n",
        "attacks.append(fb.attacks.LinfPGD())\n",
        "attacks.append(fb.attacks.LinfBasicIterativeAttack())\n",
        "attacks.append(fb.attacks.L2ContrastReductionAttack())\n",
        "attacks.append(fb.attacks.DDNAttack())\n",
        "attacks.append(fb.attacks.L2BasicIterativeAttack())\n",
        "attacks.append(fb.attacks.L2RepeatedAdditiveGaussianNoiseAttack())"
      ],
      "execution_count": 4,
      "outputs": []
    },
    {
      "cell_type": "markdown",
      "metadata": {
        "id": "BBTSyYB6qkn0"
      },
      "source": [
        "## Running Attacks"
      ]
    },
    {
      "cell_type": "code",
      "metadata": {
        "colab": {
          "base_uri": "https://localhost:8080/"
        },
        "id": "8ecwHIgmHqm9",
        "outputId": "2025caf7-d4ed-425e-88cb-a87e5185240a"
      },
      "source": [
        "images = ep.astensor(images)\n",
        "labels = ep.astensor(labels)\n",
        "\n",
        "attack_data = {'acc': [], 'times': [], 'distances': []}\n",
        "\n",
        "for attack in attacks:\n",
        "\n",
        "  try:\n",
        "    start_time = time.perf_counter()\n",
        "    raw, clipped, is_adv = attack(fmodel, images, labels, epsilons=0.03)\n",
        "    elapsed = time.perf_counter() - start_time\n",
        "  except:\n",
        "      continue\n",
        "\n",
        "  success = 1 - is_adv.float32().mean(axis=-1)\n",
        "\n",
        "  attack_data['acc'].append(success.item())\n",
        "  attack_data['times'].append(elapsed)\n",
        "  attack_data['distances'].append(fb.distances.l0(images, clipped).numpy())\n",
        "\n",
        "  print(f\"{success} accuracy in {elapsed} seconds\")\n"
      ],
      "execution_count": 5,
      "outputs": [
        {
          "output_type": "stream",
          "text": [
            "0.0 accuracy in 17.48714820999976 seconds\n",
            "0.25 accuracy in 0.012426135999703547 seconds\n",
            "0.8125 accuracy in 0.014178766000441101 seconds\n",
            "0.8125 accuracy in 10.765897779000625 seconds\n",
            "0.0 accuracy in 8.470971793999524 seconds\n",
            "0.0 accuracy in 1.6960194260000208 seconds\n",
            "0.875 accuracy in 0.0049311980001220945 seconds\n",
            "0.8125 accuracy in 1.8230539910000516 seconds\n",
            "0.75 accuracy in 1.744577591000052 seconds\n",
            "0.875 accuracy in 8.528492512999946 seconds\n"
          ],
          "name": "stdout"
        }
      ]
    },
    {
      "cell_type": "markdown",
      "metadata": {
        "id": "05htygPB8rwz"
      },
      "source": [
        "## Comparing the Multiple Attacks"
      ]
    },
    {
      "cell_type": "markdown",
      "metadata": {
        "id": "zsnOfopEqH2W"
      },
      "source": [
        "Calculate P-norms"
      ]
    },
    {
      "cell_type": "code",
      "metadata": {
        "id": "ct63j71rTEV0"
      },
      "source": [
        "def get_pnorm(p):\n",
        "  pnorms = []\n",
        "  for distance in attack_data['distances']:\n",
        "    pnorms.append(np.linalg.norm(distance, p))\n",
        "  return pnorms\n",
        "\n",
        "attack_data['pnorm0'] = get_pnorm(0)\n",
        "attack_data['pnorm1'] = get_pnorm(1)\n",
        "attack_data['pnorm2'] = get_pnorm(2)\n",
        "attack_data['pnormInf'] = get_pnorm(np.inf)\n",
        "del attack_data['distances']"
      ],
      "execution_count": 6,
      "outputs": []
    },
    {
      "cell_type": "markdown",
      "metadata": {
        "id": "JShVzgd6qKST"
      },
      "source": [
        "Format data"
      ]
    },
    {
      "cell_type": "code",
      "metadata": {
        "colab": {
          "base_uri": "https://localhost:8080/"
        },
        "id": "M00mNTZmX7KH",
        "outputId": "21ee38a4-94e8-42ad-d4d3-85544161caaf"
      },
      "source": [
        "table = []\n",
        "for i in range(0,len(attack_data['acc'])):\n",
        "  row = []\n",
        "  for key in attack_data:\n",
        "    row.append((\"%.3f\" % attack_data[key][i]))\n",
        "  table.append(row)\n",
        "\n",
        "\n",
        "print(tabulate(table, headers=attack_data.keys()))"
      ],
      "execution_count": 7,
      "outputs": [
        {
          "output_type": "stream",
          "text": [
            "  acc    times    pnorm0       pnorm1    pnorm2    pnormInf\n",
            "-----  -------  --------  -----------  --------  ----------\n",
            "0       17.487        15  2.23778e+06    577944      150527\n",
            "0.25     0.012        16  2.38854e+06    597286      150525\n",
            "0.812    0.014        16  2.38773e+06    597085      150489\n",
            "0.812   10.766        16  2.39566e+06    598967      150488\n",
            "0        8.471        16  2.40254e+06    600646      150528\n",
            "0        1.696        16  1.89345e+06    473474      124129\n",
            "0.875    0.005        16  2.40845e+06    602112      150528\n",
            "0.812    1.823        13  1.94529e+06    539567      150486\n",
            "0.75     1.745        16  2.39106e+06    597860      150491\n",
            "0.875    8.528         0  0                   0           0\n"
          ],
          "name": "stdout"
        }
      ]
    }
  ]
}